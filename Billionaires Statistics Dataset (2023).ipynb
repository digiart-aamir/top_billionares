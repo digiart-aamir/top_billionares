{
 "cells": [
  {
   "cell_type": "markdown",
   "id": "f0333900",
   "metadata": {},
   "source": [
    "# Billionaires Statistics Dataset (2023) in the World (Data Analysis)"
   ]
  },
  {
   "cell_type": "code",
   "execution_count": 1,
   "id": "c2898c74",
   "metadata": {},
   "outputs": [],
   "source": [
    "# import libraries\n",
    "import pandas as pd\n",
    "import numpy as np\n",
    "import matplotlib.pyplot as plt\n",
    "import seaborn as sns \n",
    "\n",
    "#make plots inline\n",
    "%matplotlib inline"
   ]
  },
  {
   "cell_type": "markdown",
   "id": "368b448b",
   "metadata": {},
   "source": [
    "## data \n",
    "\n",
    "<p><b>rank:</b> The ranking of the billionaire in terms of wealth.</p>\n",
    "<p><b>finalWorth:</b> The final net worth of the billionaire in U.S. dollars.</p>\n",
    "<p><b>category:</b> The category or industry in which the billionaire's business operates.</p>\n",
    "<p><b>personName:</b> The full name of the billionaire.</p>\n",
    "<p><b>age:</b> The age of the billionaire.</p>\n",
    "<p><b>country:</b> The country in which the billionaire resides.</p>\n",
    "<p><b>city:</b> The city in which the billionaire resides.</p>\n",
    "<p><b>source:</b> The source of the billionaire's wealth.</p>\n",
    "<p><b>industries:</b> The industries associated with the billionaire's business interests.</p>\n",
    "<p><b>countryOfCitizenship:</b> The country of citizenship of the billionaire.</p>\n",
    "<p><b>organization:</b> The name of the organization or company associated with the billionaire.</p>\n",
    "<p><b>selfMade:</b> Indicates whether the billionaire is self-made (True/False).</p>\n",
    "<p><b>status:</b> \"D\" represents self-made billionaires (Founders/Entrepreneurs) and \"U\" indicates inherited or unearned wealth.</p>\n",
    "<p><b>gender:</b> The gender of the billionaire.</p>\n",
    "<p><b>birthDate:</b> The birthdate of the billionaire.</p>\n",
    "<p><b>lastName:</b> The last name of the billionaire.</p>\n",
    "<p><b>firstName:</b> The first name of the billionaire.</p>\n",
    "<p><b>title:</b> The title or honorific of the billionaire.</p>\n",
    "<p><b>date:</b> The date of data collection.</p>\n",
    "<p><b>state:</b> The state in which the billionaire resides.</p>\n",
    "<p><b>residenceStateRegion:</b> The region or state of residence of the billionaire.</p>\n",
    "<p><b>birthYear:</b> The birth year of the billionaire.</p>\n",
    "<p><b>birthMonth:</b> The birth month of the billionaire.</p>\n",
    "<p><b>birthDay:</b> The birth day of the billionaire.</p>\n",
    "<p><b>cpi_country:</b> Consumer Price Index (CPI) for the billionaire's country.</p>\n",
    "<p><b>cpi_change_country:</b> CPI change for the billionaire's country.</p>\n",
    "<p><b>gdp_country:</b> Gross Domestic Product (GDP) for the billionaire's country.</p>\n",
    "<p><b>gross_tertiary_education_enrollment:</b> Enrollment in tertiary education in the billionaire's country.</p>\n",
    "<p><b>gross_primary_education_enrollment_country:</b> Enrollment in primary education in the billionaire's country.</p>\n",
    "<p><b>life_expectancy_country:</b> Life expectancy in the billionaire's country.</p>\n",
    "<p><b>tax_revenue_country_country:</b> Tax revenue in the billionaire's country.</p>\n",
    "<p><b>total_tax_rate_country:</b> Total tax rate in the billionaire's country.</p>\n",
    "<p><b>population_country:</b> Population of the billionaire's country.</p>\n",
    "<p><b>latitude_country:</b> Latitude coordinate of the billionaire's country.</p>\n",
    "<p><b>longitude_country:</b> Longitude coordinate of the billionaire's country.</p>\n",
    "\n",
    "\n",
    "\n",
    "   <p>\n",
    "        You can find the dataset on Kaggle by clicking the link below:\n",
    "    </p>\n",
    "    <p>\n",
    "        <a href=\"https://www.kaggle.com/datasets/nelgiriyewithana/billionaires-statistics-dataset\" target=\"_blank\">\n",
    "            1000 Richest People in the World Dataset\n",
    "        </a>\n",
    "    </p>"
   ]
  },
  {
   "cell_type": "code",
   "execution_count": 12,
   "id": "a567e8e7",
   "metadata": {},
   "outputs": [],
   "source": [
    "# read cvs file as pandas dataframe \n",
    "df = pd.read_csv(\"data/Billionaires Statistics Dataset.csv\")"
   ]
  },
  {
   "cell_type": "code",
   "execution_count": 13,
   "id": "ad2d8dfa",
   "metadata": {},
   "outputs": [
    {
     "data": {
      "text/html": [
       "<div>\n",
       "<style scoped>\n",
       "    .dataframe tbody tr th:only-of-type {\n",
       "        vertical-align: middle;\n",
       "    }\n",
       "\n",
       "    .dataframe tbody tr th {\n",
       "        vertical-align: top;\n",
       "    }\n",
       "\n",
       "    .dataframe thead th {\n",
       "        text-align: right;\n",
       "    }\n",
       "</style>\n",
       "<table border=\"1\" class=\"dataframe\">\n",
       "  <thead>\n",
       "    <tr style=\"text-align: right;\">\n",
       "      <th></th>\n",
       "      <th>rank</th>\n",
       "      <th>finalWorth</th>\n",
       "      <th>category</th>\n",
       "      <th>personName</th>\n",
       "      <th>age</th>\n",
       "      <th>country</th>\n",
       "      <th>city</th>\n",
       "      <th>source</th>\n",
       "      <th>industries</th>\n",
       "      <th>countryOfCitizenship</th>\n",
       "      <th>...</th>\n",
       "      <th>cpi_change_country</th>\n",
       "      <th>gdp_country</th>\n",
       "      <th>gross_tertiary_education_enrollment</th>\n",
       "      <th>gross_primary_education_enrollment_country</th>\n",
       "      <th>life_expectancy_country</th>\n",
       "      <th>tax_revenue_country_country</th>\n",
       "      <th>total_tax_rate_country</th>\n",
       "      <th>population_country</th>\n",
       "      <th>latitude_country</th>\n",
       "      <th>longitude_country</th>\n",
       "    </tr>\n",
       "  </thead>\n",
       "  <tbody>\n",
       "    <tr>\n",
       "      <th>0</th>\n",
       "      <td>1</td>\n",
       "      <td>211000</td>\n",
       "      <td>Fashion &amp; Retail</td>\n",
       "      <td>Bernard Arnault &amp; family</td>\n",
       "      <td>74.0</td>\n",
       "      <td>France</td>\n",
       "      <td>Paris</td>\n",
       "      <td>LVMH</td>\n",
       "      <td>Fashion &amp; Retail</td>\n",
       "      <td>France</td>\n",
       "      <td>...</td>\n",
       "      <td>1.1</td>\n",
       "      <td>$2,715,518,274,227</td>\n",
       "      <td>65.6</td>\n",
       "      <td>102.5</td>\n",
       "      <td>82.5</td>\n",
       "      <td>24.2</td>\n",
       "      <td>60.7</td>\n",
       "      <td>67059887.0</td>\n",
       "      <td>46.227638</td>\n",
       "      <td>2.213749</td>\n",
       "    </tr>\n",
       "    <tr>\n",
       "      <th>1</th>\n",
       "      <td>2</td>\n",
       "      <td>180000</td>\n",
       "      <td>Automotive</td>\n",
       "      <td>Elon Musk</td>\n",
       "      <td>51.0</td>\n",
       "      <td>United States</td>\n",
       "      <td>Austin</td>\n",
       "      <td>Tesla, SpaceX</td>\n",
       "      <td>Automotive</td>\n",
       "      <td>United States</td>\n",
       "      <td>...</td>\n",
       "      <td>7.5</td>\n",
       "      <td>$21,427,700,000,000</td>\n",
       "      <td>88.2</td>\n",
       "      <td>101.8</td>\n",
       "      <td>78.5</td>\n",
       "      <td>9.6</td>\n",
       "      <td>36.6</td>\n",
       "      <td>328239523.0</td>\n",
       "      <td>37.090240</td>\n",
       "      <td>-95.712891</td>\n",
       "    </tr>\n",
       "    <tr>\n",
       "      <th>2</th>\n",
       "      <td>3</td>\n",
       "      <td>114000</td>\n",
       "      <td>Technology</td>\n",
       "      <td>Jeff Bezos</td>\n",
       "      <td>59.0</td>\n",
       "      <td>United States</td>\n",
       "      <td>Medina</td>\n",
       "      <td>Amazon</td>\n",
       "      <td>Technology</td>\n",
       "      <td>United States</td>\n",
       "      <td>...</td>\n",
       "      <td>7.5</td>\n",
       "      <td>$21,427,700,000,000</td>\n",
       "      <td>88.2</td>\n",
       "      <td>101.8</td>\n",
       "      <td>78.5</td>\n",
       "      <td>9.6</td>\n",
       "      <td>36.6</td>\n",
       "      <td>328239523.0</td>\n",
       "      <td>37.090240</td>\n",
       "      <td>-95.712891</td>\n",
       "    </tr>\n",
       "    <tr>\n",
       "      <th>3</th>\n",
       "      <td>4</td>\n",
       "      <td>107000</td>\n",
       "      <td>Technology</td>\n",
       "      <td>Larry Ellison</td>\n",
       "      <td>78.0</td>\n",
       "      <td>United States</td>\n",
       "      <td>Lanai</td>\n",
       "      <td>Oracle</td>\n",
       "      <td>Technology</td>\n",
       "      <td>United States</td>\n",
       "      <td>...</td>\n",
       "      <td>7.5</td>\n",
       "      <td>$21,427,700,000,000</td>\n",
       "      <td>88.2</td>\n",
       "      <td>101.8</td>\n",
       "      <td>78.5</td>\n",
       "      <td>9.6</td>\n",
       "      <td>36.6</td>\n",
       "      <td>328239523.0</td>\n",
       "      <td>37.090240</td>\n",
       "      <td>-95.712891</td>\n",
       "    </tr>\n",
       "    <tr>\n",
       "      <th>4</th>\n",
       "      <td>5</td>\n",
       "      <td>106000</td>\n",
       "      <td>Finance &amp; Investments</td>\n",
       "      <td>Warren Buffett</td>\n",
       "      <td>92.0</td>\n",
       "      <td>United States</td>\n",
       "      <td>Omaha</td>\n",
       "      <td>Berkshire Hathaway</td>\n",
       "      <td>Finance &amp; Investments</td>\n",
       "      <td>United States</td>\n",
       "      <td>...</td>\n",
       "      <td>7.5</td>\n",
       "      <td>$21,427,700,000,000</td>\n",
       "      <td>88.2</td>\n",
       "      <td>101.8</td>\n",
       "      <td>78.5</td>\n",
       "      <td>9.6</td>\n",
       "      <td>36.6</td>\n",
       "      <td>328239523.0</td>\n",
       "      <td>37.090240</td>\n",
       "      <td>-95.712891</td>\n",
       "    </tr>\n",
       "  </tbody>\n",
       "</table>\n",
       "<p>5 rows × 35 columns</p>\n",
       "</div>"
      ],
      "text/plain": [
       "   rank  finalWorth               category                personName   age  \\\n",
       "0     1      211000       Fashion & Retail  Bernard Arnault & family  74.0   \n",
       "1     2      180000             Automotive                 Elon Musk  51.0   \n",
       "2     3      114000             Technology                Jeff Bezos  59.0   \n",
       "3     4      107000             Technology             Larry Ellison  78.0   \n",
       "4     5      106000  Finance & Investments            Warren Buffett  92.0   \n",
       "\n",
       "         country    city              source             industries  \\\n",
       "0         France   Paris                LVMH       Fashion & Retail   \n",
       "1  United States  Austin       Tesla, SpaceX             Automotive   \n",
       "2  United States  Medina              Amazon             Technology   \n",
       "3  United States   Lanai              Oracle             Technology   \n",
       "4  United States   Omaha  Berkshire Hathaway  Finance & Investments   \n",
       "\n",
       "  countryOfCitizenship  ... cpi_change_country           gdp_country  \\\n",
       "0               France  ...                1.1   $2,715,518,274,227    \n",
       "1        United States  ...                7.5  $21,427,700,000,000    \n",
       "2        United States  ...                7.5  $21,427,700,000,000    \n",
       "3        United States  ...                7.5  $21,427,700,000,000    \n",
       "4        United States  ...                7.5  $21,427,700,000,000    \n",
       "\n",
       "  gross_tertiary_education_enrollment  \\\n",
       "0                                65.6   \n",
       "1                                88.2   \n",
       "2                                88.2   \n",
       "3                                88.2   \n",
       "4                                88.2   \n",
       "\n",
       "  gross_primary_education_enrollment_country life_expectancy_country  \\\n",
       "0                                      102.5                    82.5   \n",
       "1                                      101.8                    78.5   \n",
       "2                                      101.8                    78.5   \n",
       "3                                      101.8                    78.5   \n",
       "4                                      101.8                    78.5   \n",
       "\n",
       "  tax_revenue_country_country total_tax_rate_country population_country  \\\n",
       "0                        24.2                   60.7         67059887.0   \n",
       "1                         9.6                   36.6        328239523.0   \n",
       "2                         9.6                   36.6        328239523.0   \n",
       "3                         9.6                   36.6        328239523.0   \n",
       "4                         9.6                   36.6        328239523.0   \n",
       "\n",
       "  latitude_country longitude_country  \n",
       "0        46.227638          2.213749  \n",
       "1        37.090240        -95.712891  \n",
       "2        37.090240        -95.712891  \n",
       "3        37.090240        -95.712891  \n",
       "4        37.090240        -95.712891  \n",
       "\n",
       "[5 rows x 35 columns]"
      ]
     },
     "execution_count": 13,
     "metadata": {},
     "output_type": "execute_result"
    }
   ],
   "source": [
    "# check the head of dataframe \n",
    "df.head()"
   ]
  },
  {
   "cell_type": "code",
   "execution_count": 14,
   "id": "4e3467b0",
   "metadata": {},
   "outputs": [
    {
     "name": "stdout",
     "output_type": "stream",
     "text": [
      "<class 'pandas.core.frame.DataFrame'>\n",
      "RangeIndex: 2640 entries, 0 to 2639\n",
      "Data columns (total 35 columns):\n",
      " #   Column                                      Non-Null Count  Dtype  \n",
      "---  ------                                      --------------  -----  \n",
      " 0   rank                                        2640 non-null   int64  \n",
      " 1   finalWorth                                  2640 non-null   int64  \n",
      " 2   category                                    2640 non-null   object \n",
      " 3   personName                                  2640 non-null   object \n",
      " 4   age                                         2575 non-null   float64\n",
      " 5   country                                     2602 non-null   object \n",
      " 6   city                                        2568 non-null   object \n",
      " 7   source                                      2640 non-null   object \n",
      " 8   industries                                  2640 non-null   object \n",
      " 9   countryOfCitizenship                        2640 non-null   object \n",
      " 10  organization                                325 non-null    object \n",
      " 11  selfMade                                    2640 non-null   bool   \n",
      " 12  status                                      2640 non-null   object \n",
      " 13  gender                                      2640 non-null   object \n",
      " 14  birthDate                                   2564 non-null   object \n",
      " 15  lastName                                    2640 non-null   object \n",
      " 16  firstName                                   2637 non-null   object \n",
      " 17  title                                       339 non-null    object \n",
      " 18  date                                        2640 non-null   object \n",
      " 19  state                                       753 non-null    object \n",
      " 20  residenceStateRegion                        747 non-null    object \n",
      " 21  birthYear                                   2564 non-null   float64\n",
      " 22  birthMonth                                  2564 non-null   float64\n",
      " 23  birthDay                                    2564 non-null   float64\n",
      " 24  cpi_country                                 2456 non-null   float64\n",
      " 25  cpi_change_country                          2456 non-null   float64\n",
      " 26  gdp_country                                 2476 non-null   object \n",
      " 27  gross_tertiary_education_enrollment         2458 non-null   float64\n",
      " 28  gross_primary_education_enrollment_country  2459 non-null   float64\n",
      " 29  life_expectancy_country                     2458 non-null   float64\n",
      " 30  tax_revenue_country_country                 2457 non-null   float64\n",
      " 31  total_tax_rate_country                      2458 non-null   float64\n",
      " 32  population_country                          2476 non-null   float64\n",
      " 33  latitude_country                            2476 non-null   float64\n",
      " 34  longitude_country                           2476 non-null   float64\n",
      "dtypes: bool(1), float64(14), int64(2), object(18)\n",
      "memory usage: 704.0+ KB\n"
     ]
    }
   ],
   "source": [
    "# check the info about data\n",
    "df.info()"
   ]
  },
  {
   "cell_type": "code",
   "execution_count": 15,
   "id": "a45ec6b0",
   "metadata": {},
   "outputs": [
    {
     "data": {
      "text/plain": [
       "(2640, 35)"
      ]
     },
     "execution_count": 15,
     "metadata": {},
     "output_type": "execute_result"
    }
   ],
   "source": [
    "# shape\n",
    "df.shape"
   ]
  },
  {
   "cell_type": "markdown",
   "id": "ce37a81b",
   "metadata": {},
   "source": [
    "we have 1000 columns as mentioned in title"
   ]
  },
  {
   "cell_type": "code",
   "execution_count": 19,
   "id": "9e1ea090",
   "metadata": {},
   "outputs": [
    {
     "data": {
      "text/plain": [
       "rank                                             0\n",
       "finalWorth                                       0\n",
       "category                                         0\n",
       "personName                                       0\n",
       "age                                             65\n",
       "country                                         38\n",
       "city                                            72\n",
       "source                                           0\n",
       "industries                                       0\n",
       "countryOfCitizenship                             0\n",
       "organization                                  2315\n",
       "selfMade                                         0\n",
       "status                                           0\n",
       "gender                                           0\n",
       "birthDate                                       76\n",
       "lastName                                         0\n",
       "firstName                                        3\n",
       "title                                         2301\n",
       "date                                             0\n",
       "state                                         1887\n",
       "residenceStateRegion                          1893\n",
       "birthYear                                       76\n",
       "birthMonth                                      76\n",
       "birthDay                                        76\n",
       "cpi_country                                    184\n",
       "cpi_change_country                             184\n",
       "gdp_country                                    164\n",
       "gross_tertiary_education_enrollment            182\n",
       "gross_primary_education_enrollment_country     181\n",
       "life_expectancy_country                        182\n",
       "tax_revenue_country_country                    183\n",
       "total_tax_rate_country                         182\n",
       "population_country                             164\n",
       "latitude_country                               164\n",
       "longitude_country                              164\n",
       "dtype: int64"
      ]
     },
     "execution_count": 19,
     "metadata": {},
     "output_type": "execute_result"
    }
   ],
   "source": [
    "# is there any null value \n",
    "df.isna().sum()"
   ]
  },
  {
   "cell_type": "markdown",
   "id": "6f01e5e4",
   "metadata": {},
   "source": [
    "No there is no null value"
   ]
  },
  {
   "cell_type": "code",
   "execution_count": 16,
   "id": "bc72360f",
   "metadata": {},
   "outputs": [
    {
     "data": {
      "text/plain": [
       "rank                                            int64\n",
       "finalWorth                                      int64\n",
       "category                                       object\n",
       "personName                                     object\n",
       "age                                           float64\n",
       "country                                        object\n",
       "city                                           object\n",
       "source                                         object\n",
       "industries                                     object\n",
       "countryOfCitizenship                           object\n",
       "organization                                   object\n",
       "selfMade                                         bool\n",
       "status                                         object\n",
       "gender                                         object\n",
       "birthDate                                      object\n",
       "lastName                                       object\n",
       "firstName                                      object\n",
       "title                                          object\n",
       "date                                           object\n",
       "state                                          object\n",
       "residenceStateRegion                           object\n",
       "birthYear                                     float64\n",
       "birthMonth                                    float64\n",
       "birthDay                                      float64\n",
       "cpi_country                                   float64\n",
       "cpi_change_country                            float64\n",
       "gdp_country                                    object\n",
       "gross_tertiary_education_enrollment           float64\n",
       "gross_primary_education_enrollment_country    float64\n",
       "life_expectancy_country                       float64\n",
       "tax_revenue_country_country                   float64\n",
       "total_tax_rate_country                        float64\n",
       "population_country                            float64\n",
       "latitude_country                              float64\n",
       "longitude_country                             float64\n",
       "dtype: object"
      ]
     },
     "execution_count": 16,
     "metadata": {},
     "output_type": "execute_result"
    }
   ],
   "source": [
    "# find the data types of all columns \n",
    "df.dtypes"
   ]
  },
  {
   "cell_type": "code",
   "execution_count": 20,
   "id": "2378d238",
   "metadata": {},
   "outputs": [
    {
     "data": {
      "text/plain": [
       "Wang Yanqing & family       2\n",
       "Li Li                       2\n",
       "Bernard Arnault & family    1\n",
       "Lei Jufang                  1\n",
       "Kim Jung-youn               1\n",
       "                           ..\n",
       "Chen Shibin                 1\n",
       "Bennett Dorrance            1\n",
       "Walter Faria                1\n",
       "Walter Frey                 1\n",
       "Inigo Zobel                 1\n",
       "Name: personName, Length: 2638, dtype: int64"
      ]
     },
     "execution_count": 20,
     "metadata": {},
     "output_type": "execute_result"
    }
   ],
   "source": [
    "# check if anyperson is repeated or not \n",
    "df.personName.value_counts()"
   ]
  },
  {
   "cell_type": "code",
   "execution_count": 29,
   "id": "b1574e34",
   "metadata": {},
   "outputs": [
    {
     "data": {
      "text/plain": [
       "array(['France', 'United States', 'Mexico', 'India', 'Spain', 'China',\n",
       "       'Canada', 'Germany', 'Switzerland', 'Belgium', 'Hong Kong',\n",
       "       'Austria', 'Japan', 'United Kingdom', 'Australia', 'Indonesia',\n",
       "       'United Arab Emirates', 'Russia', 'Chile', 'Monaco',\n",
       "       'Czech Republic', 'Sweden', nan, 'Thailand', 'Uzbekistan',\n",
       "       'Singapore', 'Nigeria', 'Israel', 'Italy', 'South Africa',\n",
       "       'Brazil', 'Malaysia', 'South Korea', 'New Zealand', 'Philippines',\n",
       "       'Taiwan', 'Norway', 'Egypt', 'Denmark', 'Eswatini (Swaziland)',\n",
       "       'Colombia', 'Netherlands', 'Poland', 'Bahamas', 'Ukraine',\n",
       "       'Cayman Islands', 'Greece', 'Turkey', 'Argentina', 'Georgia',\n",
       "       'Portugal', 'Kazakhstan', 'Algeria', 'Vietnam', 'Latvia',\n",
       "       'Finland', 'Bermuda', 'Luxembourg', 'British Virgin Islands',\n",
       "       'Cambodia', 'Lebanon', 'Oman', 'Ireland', 'Cyprus', 'Guernsey',\n",
       "       'Liechtenstein', 'Turks and Caicos Islands', 'Romania', 'Qatar',\n",
       "       'Uruguay', 'Nepal', 'Slovakia', 'Morocco', 'Hungary', 'Tanzania',\n",
       "       'Bahrain', 'Peru', 'Andorra', 'Armenia'], dtype=object)"
      ]
     },
     "execution_count": 29,
     "metadata": {},
     "output_type": "execute_result"
    }
   ],
   "source": [
    "# check the unique countires and value counts \n",
    "df.country.unique()"
   ]
  },
  {
   "cell_type": "code",
   "execution_count": 30,
   "id": "3b3b4fa1",
   "metadata": {},
   "outputs": [
    {
     "data": {
      "text/plain": [
       "United States           754\n",
       "China                   523\n",
       "India                   157\n",
       "Germany                 102\n",
       "United Kingdom           82\n",
       "                       ... \n",
       "Portugal                  1\n",
       "Georgia                   1\n",
       "Eswatini (Swaziland)      1\n",
       "Uzbekistan                1\n",
       "Armenia                   1\n",
       "Name: country, Length: 78, dtype: int64"
      ]
     },
     "execution_count": 30,
     "metadata": {},
     "output_type": "execute_result"
    }
   ],
   "source": [
    "df.country.value_counts()"
   ]
  },
  {
   "cell_type": "code",
   "execution_count": null,
   "id": "a3881c7d",
   "metadata": {},
   "outputs": [],
   "source": []
  }
 ],
 "metadata": {
  "kernelspec": {
   "display_name": "Python 3 (ipykernel)",
   "language": "python",
   "name": "python3"
  },
  "language_info": {
   "codemirror_mode": {
    "name": "ipython",
    "version": 3
   },
   "file_extension": ".py",
   "mimetype": "text/x-python",
   "name": "python",
   "nbconvert_exporter": "python",
   "pygments_lexer": "ipython3",
   "version": "3.11.3"
  }
 },
 "nbformat": 4,
 "nbformat_minor": 5
}
